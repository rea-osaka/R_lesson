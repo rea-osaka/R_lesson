{
 "cells": [
  {
   "cell_type": "markdown",
   "metadata": {},
   "source": [
    "## Rレッスン\n",
    "\n",
    "このJupyterファイルでRのレッスンを行います。\n",
    "\n",
    "1. ファイルの場所とワーキングディレクトリ\n",
    "1. ファイルの読み込み\n",
    "1. データフレイム"
   ]
  },
  {
   "cell_type": "markdown",
   "metadata": {},
   "source": [
    "## 1.ファイルの場所とワーキングディレクトリ\n",
    "\n",
    "|関数|説明|\n",
    "|:--|:--|\n",
    "| getwd() | 現在のディレクトリを表示|\n",
    "| setwd() | 現在のディレクトリをセット|\n",
    "| list.files() | 現在のディレクトリの中身を表示|\n",
    "\n",
    "\n"
   ]
  },
  {
   "cell_type": "code",
   "execution_count": 4,
   "metadata": {},
   "outputs": [
    {
     "data": {
      "text/html": [
       "'c:/Users/ms201/Desktop'"
      ],
      "text/latex": [
       "'c:/Users/ms201/Desktop'"
      ],
      "text/markdown": [
       "'c:/Users/ms201/Desktop'"
      ],
      "text/plain": [
       "[1] \"c:/Users/ms201/Desktop\""
      ]
     },
     "metadata": {},
     "output_type": "display_data"
    },
    {
     "data": {
      "text/html": [
       "<ol class=list-inline>\n",
       "\t<li>'2018-09-24_18h21_11.png'</li>\n",
       "\t<li>'2018-09-24_18h29_55.png'</li>\n",
       "\t<li>'desktop.ini'</li>\n",
       "\t<li>'startmenu001.png'</li>\n",
       "</ol>\n"
      ],
      "text/latex": [
       "\\begin{enumerate*}\n",
       "\\item '2018-09-24\\_18h21\\_11.png'\n",
       "\\item '2018-09-24\\_18h29\\_55.png'\n",
       "\\item 'desktop.ini'\n",
       "\\item 'startmenu001.png'\n",
       "\\end{enumerate*}\n"
      ],
      "text/markdown": [
       "1. '2018-09-24_18h21_11.png'\n",
       "2. '2018-09-24_18h29_55.png'\n",
       "3. 'desktop.ini'\n",
       "4. 'startmenu001.png'\n",
       "\n",
       "\n"
      ],
      "text/plain": [
       "[1] \"2018-09-24_18h21_11.png\" \"2018-09-24_18h29_55.png\"\n",
       "[3] \"desktop.ini\"             \"startmenu001.png\"       "
      ]
     },
     "metadata": {},
     "output_type": "display_data"
    }
   ],
   "source": [
    "getwd()\n",
    "list.files()"
   ]
  },
  {
   "cell_type": "markdown",
   "metadata": {},
   "source": [
    "### ワーキングディレクトリを切り替える\n",
    "\n",
    "[https://github.com/rea-osaka/rea-osaka-R.module](https://github.com/rea-osaka/rea-osaka-R.module)\n",
    "から、リポジトリをzipでダウンロード。\n",
    "\n",
    "解凍する\n",
    "\n",
    "setwd()を使って、現在ディレクトリを解凍したディレクトリにする\n",
    "\n",
    "```\n",
    "setwd('c:/Users/ms201/Desktop/rea-osaka-R.module-master/')\n",
    "getwd()\n",
    "list.files()\n",
    "```\n"
   ]
  },
  {
   "cell_type": "code",
   "execution_count": 7,
   "metadata": {},
   "outputs": [
    {
     "data": {
      "text/html": [
       "'c:/Users/ms201/Desktop/rea-osaka-R.module-master'"
      ],
      "text/latex": [
       "'c:/Users/ms201/Desktop/rea-osaka-R.module-master'"
      ],
      "text/markdown": [
       "'c:/Users/ms201/Desktop/rea-osaka-R.module-master'"
      ],
      "text/plain": [
       "[1] \"c:/Users/ms201/Desktop/rea-osaka-R.module-master\""
      ]
     },
     "metadata": {},
     "output_type": "display_data"
    },
    {
     "data": {
      "text/html": [
       "<ol class=list-inline>\n",
       "\t<li>'images'</li>\n",
       "\t<li>'LICENSE'</li>\n",
       "\t<li>'README.md'</li>\n",
       "\t<li>'REanalysis.R'</li>\n",
       "</ol>\n"
      ],
      "text/latex": [
       "\\begin{enumerate*}\n",
       "\\item 'images'\n",
       "\\item 'LICENSE'\n",
       "\\item 'README.md'\n",
       "\\item 'REanalysis.R'\n",
       "\\end{enumerate*}\n"
      ],
      "text/markdown": [
       "1. 'images'\n",
       "2. 'LICENSE'\n",
       "3. 'README.md'\n",
       "4. 'REanalysis.R'\n",
       "\n",
       "\n"
      ],
      "text/plain": [
       "[1] \"images\"       \"LICENSE\"      \"README.md\"    \"REanalysis.R\""
      ]
     },
     "metadata": {},
     "output_type": "display_data"
    }
   ],
   "source": []
  },
  {
   "cell_type": "markdown",
   "metadata": {},
   "source": [
    "### 取引価格情報のデータファイル\n",
    "\n",
    "[不動産取引価格情報ダウンロード](http://www.land.mlit.go.jp/webland/download.html)\n",
    "\n",
    "上記サイトから、大阪府の取引情報をダウンロード\n"
   ]
  }
 ],
 "metadata": {
  "kernelspec": {
   "display_name": "R",
   "language": "R",
   "name": "ir"
  },
  "language_info": {
   "codemirror_mode": "r",
   "file_extension": ".r",
   "mimetype": "text/x-r-source",
   "name": "R",
   "pygments_lexer": "r",
   "version": "3.5.1"
  }
 },
 "nbformat": 4,
 "nbformat_minor": 2
}
