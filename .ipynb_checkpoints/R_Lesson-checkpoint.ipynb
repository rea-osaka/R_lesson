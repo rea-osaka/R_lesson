{
 "cells": [
  {
   "cell_type": "markdown",
   "metadata": {},
   "source": [
    "## Rの基礎レッスン\n",
    "\n",
    "このJupyterファイルでRのレッスンを行います。\n"
   ]
  },
  {
   "cell_type": "markdown",
   "metadata": {},
   "source": [
    "## 現在のディレクトリ\n",
    "\n",
    "コンピュータ上で作業する時、\n",
    "自分が今どのディレクトリで作業しているのかを把握する事はいつでも重要な事です。\n",
    "\n",
    "自分が今作業しているディレクトリの事は、「カレントディレクトリ」、「ワーキングディレクトリ」、「現在のディレクトリ」等と呼ばれます。\n",
    "\n",
    "Ｒには、次の様なディレクトリ作業をする基礎的な関数があります。\n",
    "\n",
    "|関数|説明|\n",
    "|:--|:--|\n",
    "| getwd() | 現在のディレクトリを表示|\n",
    "| setwd() | 現在のディレクトリをセット|\n",
    "| list.files() | 現在のディレクトリの中身を表示|\n",
    "\n",
    "（実習）\n",
    " - 現在のディレクトリを表示して下さい\n",
    " - 現在のディレクトリにあるファイルのリストを表示してください\n"
   ]
  },
  {
   "cell_type": "code",
   "execution_count": null,
   "metadata": {},
   "outputs": [],
   "source": []
  },
  {
   "cell_type": "markdown",
   "metadata": {},
   "source": [
    "## ワーキングディレクトリとは\n",
    "\n",
    "さて、githubのrea-osakaで紹介されているＲのスクリプトは、\n",
    "コンソールからそのスクリプトをsource()関数で読み込んで使います。\n",
    "\n",
    "まずは、githubのリポジトリをダウンロードしてみましょう。\n",
    "[https://github.com/rea-osaka/rea-osaka-R.module](https://github.com/rea-osaka/rea-osaka-R.module)\n",
    "から、リポジトリをzipでダウンロードして下さい。\n",
    "ダウンロード出来たらデスクトップに解凍してください。\n",
    "\n",
    "解凍されたフォルダの中に幾つかのファイルに交じって、\n",
    "「REanalysis.R」というファイルがありますが、\n",
    "これをsource()関数でコンソールで読み込むことで、\n",
    "色々な便利な関数が使えるようになります。\n",
    "\n",
    "この読み込むという作業を行うために、\n",
    "その作業の場所を**現在のディレクトリとして設定**します。\n",
    "\n",
    "そして、この現在ディレクトリの設定のための関数がsetwd()関数です。\n",
    "この関数は、例えば次の様に、\n",
    "カッコの中に引数に作業ディレクトリとなる場所を指定して使います。\n",
    "\n",
    "```\n",
    "setwd('c:/Users/ms201/Desktop/rea-osaka-R.module-master/')\n",
    "```\n",
    "\n",
    "ここで、ディレクトリの文字列を書き込む際、タブキーを使うことで補完操作ができます。\n",
    "\n",
    "\n",
    "（実習）\n",
    " - 展開したディレクトリを現在ディレクトリに指定してください\n",
    " - 指定できたかどうか、現在ディレクトリを表示して確認してください\n",
    " - 現在ディレクトリの中身を表示してください"
   ]
  },
  {
   "cell_type": "code",
   "execution_count": null,
   "metadata": {},
   "outputs": [],
   "source": []
  },
  {
   "cell_type": "markdown",
   "metadata": {},
   "source": [
    "## スクリプトを読み込む\n",
    "\n",
    "REanalysis.Rファイルがあるディレクトリを現在ディレクトリに設定出来たら、スクリプトの読み込みには、source()関数を使います。\n",
    "source()関数は、引数に、次の例の様に、読み込むファイル名を与えて使います。\n",
    "\n",
    "```\n",
    "source('REanalysis.R')\n",
    "```\n",
    "\n",
    "ファイル名の記述にはタブキーによる補完が使えます。\n",
    "\n",
    "（実習）\n",
    " - 現在ディレクトリを確認してください\n",
    " - 現在ディレクトリの中身を表示して「REanalysis.R」ファイルがあるか確認してください\n",
    " - source()関数を使って、「REanalysis.R」ファイルを読み込んでください"
   ]
  },
  {
   "cell_type": "code",
   "execution_count": null,
   "metadata": {},
   "outputs": [],
   "source": []
  },
  {
   "cell_type": "markdown",
   "metadata": {},
   "source": [
    "## 取引価格情報のデータファイル\n",
    "\n",
    "REanalysis.Rスクリプトに含まれる関数は、国道交通省が配布している「不動産取引価格情報」のCSVデータを扱うための関数です。\n",
    "\n",
    "[不動産取引価格情報ダウンロード](http://www.land.mlit.go.jp/webland/download.html)\n",
    "\n",
    "上記サイトから、大阪府の取引情報（全期間、大阪府下全市町村）をダウンロードして下さい。\n",
    "ダウンロードされるデータはzipで圧縮されているので、デスクトップに解凍しましょう。\n",
    "\n",
    "さて、ここで先ほどと同じように、今からcsvデータの読み込みという作業を行うので、\n",
    "作業ディレクトリを、csvデータのあるディレクトリに設定する必要があります。\n",
    "\n",
    "（実習）\n",
    " - csvデータのあるディレクトリを現在のディレクトリにして下さい\n",
    " "
   ]
  },
  {
   "cell_type": "code",
   "execution_count": null,
   "metadata": {},
   "outputs": [],
   "source": []
  },
  {
   "cell_type": "markdown",
   "metadata": {},
   "source": [
    "## 建物及びその敷地のデータを呼び出す関数\n",
    "\n",
    "国交省から配布される不動産取引価格情報のCSVファイルには、\n",
    "幾つかの類型が混在しています。\n",
    "\n",
    "ここで、REanalysis.Rに含まれる**get_LBdata()関数**を使えば、不動産取引価格情報のCSVを読み込み、建物及びその敷地に係る取引データのみを抜き出し、データ操作しやすく加工したデータフレーム型として出力してくれます。\n",
    "\n",
    "get_LBdata()関数の引数には、次のように、不動産取引価格情報のCSVファイルを指定します。\n",
    "\n",
    "```\n",
    "osaka <- getLBdata('27_Osaka Prefecture_20132_20181.csv')\n",
    "```\n",
    "\n",
    "（実習）\n",
    " - 現在のワーキングディレクトリをcsvデータのあるディレクトリに設定してください\n",
    " - 現在のワーキングディレクトリを表示して確認してください\n",
    " - ワーキングディレクトリ内のファイルを確認してください\n",
    " - csvデータファイルをget_LBdata()関数で読み込み、その出力を変数osakaに代入してください\n"
   ]
  },
  {
   "cell_type": "code",
   "execution_count": null,
   "metadata": {},
   "outputs": [],
   "source": []
  },
  {
   "cell_type": "markdown",
   "metadata": {},
   "source": [
    "## データフレームの構造をみる\n",
    "\n",
    "データフレーム型のデータはエクセルシートの様に、列と行からなる表のような構造をしています。\n",
    "\n",
    "データフレームを観察するための基本的な関数は次の通り\n",
    "\n",
    "|関数|効果|\n",
    "|:--|:--|\n",
    "|str()|構造をみる|\n",
    "|nrow()|何行か|\n",
    "|ncol()|何列か|\n",
    "|names()|列名|\n",
    "\n",
    "（実習）\n",
    " - osakaデータがどんな構造か概要を表示してください\n",
    " - osakaデータは、何行のデータがありますか\n",
    " - osakaデータには、項目が何列ありますか\n",
    " - osakaデータには、どんな項目がありますか\n"
   ]
  },
  {
   "cell_type": "code",
   "execution_count": null,
   "metadata": {},
   "outputs": [],
   "source": []
  }
 ],
 "metadata": {
  "kernelspec": {
   "display_name": "R",
   "language": "R",
   "name": "ir"
  },
  "language_info": {
   "codemirror_mode": "r",
   "file_extension": ".r",
   "mimetype": "text/x-r-source",
   "name": "R",
   "pygments_lexer": "r",
   "version": "3.5.1"
  }
 },
 "nbformat": 4,
 "nbformat_minor": 2
}
